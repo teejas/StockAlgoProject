{
 "cells": [
  {
   "cell_type": "code",
   "execution_count": 15,
   "metadata": {
    "collapsed": true,
    "nbpresent": {
     "id": "1ef3e146-2d1c-4a5e-b7ce-e0fee3d530ce"
    }
   },
   "outputs": [],
   "source": [
    "import csv\n",
    "import requests\n",
    "import os\n",
    "import sys\n",
    "from yahoo_finance import Share\n",
    "from collections import deque\n",
    "from PIL import Image\n",
    "import time\n",
    "import finsymbols as symbols\n",
    "from numpy.random import choice\n",
    "import pandas as pd\n",
    "from subprocess import call"
   ]
  },
  {
   "cell_type": "code",
   "execution_count": 2,
   "metadata": {
    "collapsed": true,
    "nbpresent": {
     "id": "164c9777-53e3-4b89-a11e-f7ea1e0f9ed2"
    }
   },
   "outputs": [],
   "source": [
    "## Text input"
   ]
  },
  {
   "cell_type": "code",
   "execution_count": 4,
   "metadata": {
    "collapsed": false,
    "nbpresent": {
     "id": "ffb0895e-e33b-47da-a1a6-5f31d4a50cc7"
    }
   },
   "outputs": [
    {
     "name": "stdout",
     "output_type": "stream",
     "text": [
      "[u'MMM', u'ABT', u'ABBV', u'ACN', u'ATVI', u'AYI', u'ADBE', u'AMD', u'AAP', u'AES', u'AET', u'AMG', u'AFL', u'A', u'APD', u'AKAM', u'ALK', u'ALB', u'ARE', u'ALXN', u'ALGN', u'ALLE', u'AGN', u'ADS', u'LNT', u'ALL', u'GOOGL', u'GOOG', u'MO', u'AMZN', u'AEE', u'AAL', u'AEP', u'AXP', u'AIG', u'AMT', u'AWK', u'AMP', u'ABC', u'AME', u'AMGN', u'APH', u'APC', u'ADI', u'ANDV', u'ANSS', u'ANTM', u'AON', u'AOS', u'APA', u'AIV', u'AAPL', u'AMAT', u'APTV', u'ADM', u'ARNC', u'AJG', u'AIZ', u'T', u'ADSK', u'ADP', u'AZO', u'AVB', u'AVY', u'BHGE', u'BLL', u'BAC', u'BK', u'BAX', u'BBT', u'BDX', u'BRK.B', u'BBY', u'BIIB', u'BLK', u'HRB', u'BA', u'BKNG', u'BWA', u'BXP', u'BSX', u'BHF', u'BMY', u'AVGO', u'BF.B', u'CHRW', u'CA', u'COG', u'CDNS', u'CPB', u'COF', u'CAH', u'CBOE', u'KMX', u'CCL', u'CAT', u'CBG', u'CBS', u'CELG', u'CNC', u'CNP', u'CTL', u'CERN', u'CF', u'SCHW', u'CHTR', u'CHK', u'CVX', u'CMG', u'CB', u'CHD', u'CI', u'XEC', u'CINF', u'CTAS', u'CSCO', u'C', u'CFG', u'CTXS', u'CLX', u'CME', u'CMS', u'KO', u'CTSH', u'CL', u'CMCSA', u'CMA', u'CAG', u'CXO', u'COP', u'ED', u'STZ', u'COO', u'GLW', u'COST', u'COTY', u'CCI', u'CSRA', u'CSX', u'CMI', u'CVS', u'DHI', u'DHR', u'DRI', u'DVA', u'DE', u'DAL', u'XRAY', u'DVN', u'DLR', u'DFS', u'DISCA', u'DISCK', u'DISH', u'DG', u'DLTR', u'D', u'DOV', u'DWDP', u'DPS', u'DTE', u'DRE', u'DUK', u'DXC', u'ETFC', u'EMN', u'ETN', u'EBAY', u'ECL', u'EIX', u'EW', u'EA', u'EMR', u'ETR', u'EVHC', u'EOG', u'EQT', u'EFX', u'EQIX', u'EQR', u'ESS', u'EL', u'ES', u'RE', u'EXC', u'EXPE', u'EXPD', u'ESRX', u'EXR', u'XOM', u'FFIV', u'FB', u'FAST', u'FRT', u'FDX', u'FIS', u'FITB', u'FE', u'FISV', u'FLIR', u'FLS', u'FLR', u'FMC', u'FL', u'F', u'FTV', u'FBHS', u'BEN', u'FCX', u'GPS', u'GRMN', u'IT', u'GD', u'GE', u'GGP', u'GIS', u'GM', u'GPC', u'GILD', u'GPN', u'GS', u'GT', u'GWW', u'HAL', u'HBI', u'HOG', u'HRS', u'HIG', u'HAS', u'HCA', u'HCP', u'HP', u'HSIC', u'HSY', u'HES', u'HPE', u'HLT', u'HOLX', u'HD', u'HON', u'HRL', u'HST', u'HPQ', u'HUM', u'HBAN', u'HII', u'IDXX', u'INFO', u'ITW', u'ILMN', u'IR', u'INTC', u'ICE', u'IBM', u'INCY', u'IP', u'IPG', u'IFF', u'INTU', u'ISRG', u'IVZ', u'IPGP', u'IQV', u'IRM', u'JEC', u'JBHT', u'SJM', u'JNJ', u'JCI', u'JPM', u'JNPR', u'KSU', u'K', u'KEY', u'KMB', u'KIM', u'KMI', u'KLAC', u'KSS', u'KHC', u'KR', u'LB', u'LLL', u'LH', u'LRCX', u'LEG', u'LEN', u'LUK', u'LLY', u'LNC', u'LKQ', u'LMT', u'L', u'LOW', u'LYB', u'MTB', u'MAC', u'M', u'MRO', u'MPC', u'MAR', u'MMC', u'MLM', u'MAS', u'MA', u'MAT', u'MKC', u'MCD', u'MCK', u'MDT', u'MRK', u'MET', u'MTD', u'MGM', u'KORS', u'MCHP', u'MU', u'MSFT', u'MAA', u'MHK', u'TAP', u'MDLZ', u'MON', u'MNST', u'MCO', u'MS', u'MOS', u'MSI', u'MYL', u'NDAQ', u'NOV', u'NAVI', u'NTAP', u'NFLX', u'NWL', u'NFX', u'NEM', u'NWSA', u'NWS', u'NEE', u'NLSN', u'NKE', u'NI', u'NBL', u'JWN', u'NSC', u'NTRS', u'NOC', u'NCLH', u'NRG', u'NUE', u'NVDA', u'ORLY', u'OXY', u'OMC', u'OKE', u'ORCL', u'PCAR', u'PKG', u'PH', u'PDCO', u'PAYX', u'PYPL', u'PNR', u'PBCT', u'PEP', u'PKI', u'PRGO', u'PFE', u'PCG', u'PM', u'PSX', u'PNW', u'PXD', u'PNC', u'RL', u'PPG', u'PPL', u'PX', u'PFG', u'PG', u'PGR', u'PLD', u'PRU', u'PEG', u'PSA', u'PHM', u'PVH', u'QRVO', u'PWR', u'QCOM', u'DGX', u'RRC', u'RJF', u'RTN', u'O', u'RHT', u'REG', u'REGN', u'RF', u'RSG', u'RMD', u'RHI', u'ROK', u'COL', u'ROP', u'ROST', u'RCL', u'CRM', u'SBAC', u'SCG', u'SLB', u'STX', u'SEE', u'SRE', u'SHW', u'SIG', u'SPG', u'SWKS', u'SLG', u'SNA', u'SO', u'LUV', u'SPGI', u'SWK', u'SBUX', u'STT', u'SRCL', u'SYK', u'STI', u'SYMC', u'SYF', u'SNPS', u'SYY', u'TROW', u'TPR', u'TGT', u'TEL', u'FTI', u'TXN', u'TXT', u'TMO', u'TIF', u'TWX', u'TJX', u'TMK', u'TSS', u'TSCO', u'TDG', u'TRV', u'TRIP', u'FOXA', u'FOX', u'TSN', u'UDR', u'ULTA', u'USB', u'UAA', u'UA', u'UNP', u'UAL', u'UNH', u'UPS', u'URI', u'UTX', u'UHS', u'UNM', u'VFC', u'VLO', u'VAR', u'VTR', u'VRSN', u'VRSK', u'VZ', u'VRTX', u'VIAB', u'V', u'VNO', u'VMC', u'WMT', u'WBA', u'DIS', u'WM', u'WAT', u'WEC', u'WFC', u'WELL', u'WDC', u'WU', u'WRK', u'WY', u'WHR', u'WMB', u'WLTW', u'WYN', u'WYNN', u'XEL', u'XRX', u'XLNX', u'XL', u'XYL', u'YUM', u'ZBH', u'ZION', u'ZTS']\n"
     ]
    }
   ],
   "source": [
    "SP500dict = symbols.get_sp500_symbols()\n",
    "SP500ticker = []\n",
    "for i in SP500dict:\n",
    "    SP500ticker.append(i['symbol'])\n",
    "print((SP500ticker))\n",
    "fd = open('labels.txt', 'w+')"
   ]
  },
  {
   "cell_type": "code",
   "execution_count": 24,
   "metadata": {
    "collapsed": true
   },
   "outputs": [],
   "source": [
    "## Download Data"
   ]
  },
  {
   "cell_type": "code",
   "execution_count": 11,
   "metadata": {
    "collapsed": true,
    "nbpresent": {
     "id": "e34fa557-20b1-4bae-8b31-4023e735f755"
    }
   },
   "outputs": [],
   "source": [
    "startMonth = \"2\"\n",
    "startDay = \"25\"\n",
    "startYear = \"2010\"\n",
    "endMonth = \"2\"\n",
    "endDay = \"25\"\n",
    "endYear = \"2018\"\n",
    "basePath = \"/Users/patrick/Euler/S&P500/\"\n",
    "imagePath = \"/Users/patrick/Euler/S&PImages/\"\n",
    "#basePathEdited = \"/Users/tejassiripurapu/Desktop/\"\n",
    "#basePathSuperCharacter = \"/Users/tejassiripurapu/Desktop/\""
   ]
  },
  {
   "cell_type": "code",
   "execution_count": 21,
   "metadata": {
    "collapsed": true,
    "nbpresent": {
     "id": "bb170c3c-2b8d-4391-af6e-373d0638c721"
    }
   },
   "outputs": [],
   "source": [
    "#for stockTicker in SP500ticker:\n",
    "#print(stockTicker)\n",
    "for stockTicker in SP500ticker:\n",
    "    csvURL = \"https://app.quotemedia.com/quotetools/getHistoryDownload.csv?&webmasterId=501&startDay=\" + startDay + \"&startMonth=\" + startMonth + \"&startYear=\" + startYear + \"&endDay=\" + endDay + \"&endMonth=\" + endMonth + \"&endYear=\" + endYear + \"&isRanged=true&symbol=\" + stockTicker\n",
    "    with requests.Session() as s:\n",
    "        download = s.get(csvURL)\n",
    "        fd = open(basePath + stockTicker + \".csv\", 'wb')\n",
    "        fd.write(download.content)\n",
    "        fd.close()\n",
    "        #break"
   ]
  },
  {
   "cell_type": "code",
   "execution_count": 22,
   "metadata": {
    "collapsed": true
   },
   "outputs": [],
   "source": [
    "csvURL = \"https://app.quotemedia.com/quotetools/getHistoryDownload.csv?&webmasterId=501&startDay=\" + startDay + \"&startMonth=\" + startMonth + \"&startYear=\" + startYear + \"&endDay=\" + endDay + \"&endMonth=\" + endMonth + \"&endYear=\" + endYear + \"&isRanged=true&symbol=SPY\"\n",
    "with requests.Session() as s:\n",
    "    download = s.get(csvURL)\n",
    "    fd = open(basePath + \"SPY\" + \".csv\", 'wb')\n",
    "    fd.write(download.content)\n",
    "    fd.close()"
   ]
  },
  {
   "cell_type": "code",
   "execution_count": 12,
   "metadata": {
    "collapsed": true,
    "nbpresent": {
     "id": "80162dc8-1a9c-41fb-8cf3-e6cef7ff9bb6"
    }
   },
   "outputs": [],
   "source": [
    "from sklearn.preprocessing import MinMaxScaler\n",
    "import numpy as np\n",
    "\n",
    "# adjclose: 9, volume: 6, high: 2\n",
    "# minimal spread between adjclose and high indicate up trend\n",
    "def get_data_from_csv(fname):\n",
    "    high_Price = []\n",
    "    adj_Close = []\n",
    "    volume = []\n",
    "    \n",
    "    if os.path.splitext(fname)[-1].lower() == '.csv':\n",
    "        with open(fname,\"rb\") as csvFile:\n",
    "            stockCSV = csv.reader(csvFile)\n",
    "            stockCSV.next()\n",
    "            for row in stockCSV:\n",
    "                high_Price.append(row[1])\n",
    "                adj_Close.append(row[8])\n",
    "                volume.append(row[5])\n",
    "    \n",
    "    return high_Price, adj_Close, volume\n",
    "    \n",
    "def get_data_from_excel(fname):\n",
    "\n",
    "    xl_workbook = xlrd.open_workbook(fname)\n",
    "    xl_sheet = xl_workbook.sheet_by_index(0)\n",
    "\n",
    "    open_price_sheet = xl_sheet.col(2)\n",
    "    open_price = []\n",
    "    for obj in open_price_sheet:\n",
    "        open_price.append(obj.value)\n",
    "\n",
    "    close_price_sheet = xl_sheet.col(5)\n",
    "    close_price = []\n",
    "    for obj in close_price_sheet:\n",
    "        close_price.append(obj.value)\n",
    "\n",
    "    vol_sheet = xl_sheet.col(6)\n",
    "    vol = []\n",
    "    for obj in vol_sheet:\n",
    "        vol.append(obj.value)\n",
    "\n",
    "    open_price.pop(0)\n",
    "    close_price.pop(0)\n",
    "    vol.pop(0)\n",
    "\n",
    "    return open_price, close_price, vol\n",
    "\n",
    "def scale_data(data_list):\n",
    "    data_array = np.array(data_list)\n",
    "    data_array = np.reshape(data_array, (-1,1))\n",
    "    scaler = MinMaxScaler(feature_range=(0, 255))\n",
    "    scaler.fit(data_array)\n",
    "    scaled_data = scaler.transform(data_array)\n",
    "    return scaled_data\n",
    "\n",
    "def convert_to_images(open_data, close_data, vol_data):\n",
    "    picture_list = [] \n",
    "    label_list = []\n",
    "    percentage_growth = []\n",
    "\n",
    "\n",
    "    count = 0\n",
    "    \n",
    "    for i in range(len(open_data)): # since this is for i in range it will produce a sliding window\n",
    "        open_pic = open_data[i:i+224]\n",
    "        close_pic = close_data[i:i+224]\n",
    "        vol_pic = vol_data[i:i+224] \n",
    "        \n",
    "        if len(open_pic) == 224:\n",
    "            open_2D = [] \n",
    "            close_2D = [] \n",
    "            vol_2D = [] \n",
    "\n",
    "            for j in range(224): \n",
    "                open_2D.append(open_pic)\n",
    "                close_2D.append(close_pic)\n",
    "                vol_2D.append(vol_pic)\n",
    "\n",
    "            open_2D = np.array(open_2D)\n",
    "            close_2D = np.array(close_2D)\n",
    "            vol_2D = np.array(vol_2D)\n",
    "            final_pic = np.dstack((open_2D, close_2D, vol_2D))\n",
    "\n",
    "            if len(open_data) > (i + 259):\n",
    "                picture_list.append(final_pic)\n",
    "                denom = float(open_data[i+224])\n",
    "                if denom == 0:\n",
    "                    denom = .001\n",
    "                if open_data[i + 224] < open_data[i + 259]:\n",
    "                    label_list.append(1)\n",
    "                    percent = float(open_data[i+259] - open_data[i+224]) / denom\n",
    "                    percentage_growth.append(percent)\n",
    "\n",
    "                else:\n",
    "                    label_list.append(0)\n",
    "                    percent = float(open_data[i+259] - open_data[i+224]) / denom\n",
    "                    percentage_growth.append(percent)\n",
    "\n",
    "    return picture_list, label_list, percentage_growth"
   ]
  },
  {
   "cell_type": "code",
   "execution_count": 13,
   "metadata": {
    "collapsed": false
   },
   "outputs": [
    {
     "name": "stderr",
     "output_type": "stream",
     "text": [
      "/Users/patrick/anaconda/lib/python2.7/site-packages/sklearn/utils/validation.py:420: DataConversionWarning: Data with input dtype |S8 was converted to float64 by MinMaxScaler.\n",
      "  warnings.warn(msg, DataConversionWarning)\n",
      "/Users/patrick/anaconda/lib/python2.7/site-packages/sklearn/utils/validation.py:420: DataConversionWarning: Data with input dtype |S8 was converted to float64 by MinMaxScaler.\n",
      "  warnings.warn(msg, DataConversionWarning)\n",
      "/Users/patrick/anaconda/lib/python2.7/site-packages/sklearn/utils/validation.py:420: DataConversionWarning: Data with input dtype |S9 was converted to float64 by MinMaxScaler.\n",
      "  warnings.warn(msg, DataConversionWarning)\n"
     ]
    },
    {
     "name": "stdout",
     "output_type": "stream",
     "text": [
      "2004\n"
     ]
    }
   ],
   "source": [
    "high_priceSP, close_priceSP, volSP = get_data_from_csv('/Users/patrick/Euler/S&P500/' + \"SPY\" + '.csv')\n",
    "\n",
    "scaled_high = scale_data(high_priceSP)\n",
    "scaled_high = np.flip(scaled_high, axis=0)\n",
    "\n",
    "scaled_closed = scale_data(close_priceSP)\n",
    "scaled_closed = np.flip(scaled_closed, axis=0)\n",
    "\n",
    "scaled_vol = scale_data(volSP)\n",
    "scaled_vol = np.flip(scaled_vol, axis=0)\n",
    "\n",
    "pictures, labels, growthSP = convert_to_images(scaled_high, scaled_closed, scaled_vol)\n",
    "completedTicker = []\n",
    "skippedTickers = []\n",
    "print(len(high_priceSP))"
   ]
  },
  {
   "cell_type": "code",
   "execution_count": 14,
   "metadata": {
    "collapsed": false,
    "nbpresent": {
     "id": "80162dc8-1a9c-41fb-8cf3-e6cef7ff9bb6"
    }
   },
   "outputs": [
    {
     "name": "stderr",
     "output_type": "stream",
     "text": [
      "/Users/patrick/anaconda/lib/python2.7/site-packages/sklearn/utils/validation.py:420: DataConversionWarning: Data with input dtype |S7 was converted to float64 by MinMaxScaler.\n",
      "  warnings.warn(msg, DataConversionWarning)\n",
      "/Users/patrick/anaconda/lib/python2.7/site-packages/sklearn/utils/validation.py:420: DataConversionWarning: Data with input dtype |S7 was converted to float64 by MinMaxScaler.\n",
      "  warnings.warn(msg, DataConversionWarning)\n",
      "/Users/patrick/anaconda/lib/python2.7/site-packages/sklearn/utils/validation.py:420: DataConversionWarning: Data with input dtype |S9 was converted to float64 by MinMaxScaler.\n",
      "  warnings.warn(msg, DataConversionWarning)\n"
     ]
    },
    {
     "name": "stdout",
     "output_type": "stream",
     "text": [
      "Time Remaining: 5135.09276104 curTime: 10.1886279583 count0: 560 count1: 237 count2: 948 numProcessed: 1\n",
      "len not equal, stockTicker: AYI2003\n"
     ]
    },
    {
     "name": "stderr",
     "output_type": "stream",
     "text": [
      "/Users/patrick/anaconda/lib/python2.7/site-packages/sklearn/utils/validation.py:420: DataConversionWarning: Data with input dtype |S7 was converted to float64 by MinMaxScaler.\n",
      "  warnings.warn(msg, DataConversionWarning)\n",
      "/Users/patrick/anaconda/lib/python2.7/site-packages/sklearn/utils/validation.py:420: DataConversionWarning: Data with input dtype |S7 was converted to float64 by MinMaxScaler.\n",
      "  warnings.warn(msg, DataConversionWarning)\n",
      "/Users/patrick/anaconda/lib/python2.7/site-packages/sklearn/utils/validation.py:420: DataConversionWarning: Data with input dtype |S9 was converted to float64 by MinMaxScaler.\n",
      "  warnings.warn(msg, DataConversionWarning)\n"
     ]
    },
    {
     "name": "stdout",
     "output_type": "stream",
     "text": [
      "Time Remaining: 3362.63227423 curTime: 9.90665698051 count0: 514 count1: 248 count2: 983 numProcessed: 3\n"
     ]
    },
    {
     "name": "stderr",
     "output_type": "stream",
     "text": [
      "/Users/patrick/anaconda/lib/python2.7/site-packages/sklearn/utils/validation.py:420: DataConversionWarning: Data with input dtype |S7 was converted to float64 by MinMaxScaler.\n",
      "  warnings.warn(msg, DataConversionWarning)\n",
      "/Users/patrick/anaconda/lib/python2.7/site-packages/sklearn/utils/validation.py:420: DataConversionWarning: Data with input dtype |S6 was converted to float64 by MinMaxScaler.\n",
      "  warnings.warn(msg, DataConversionWarning)\n",
      "/Users/patrick/anaconda/lib/python2.7/site-packages/sklearn/utils/validation.py:420: DataConversionWarning: Data with input dtype |S9 was converted to float64 by MinMaxScaler.\n",
      "  warnings.warn(msg, DataConversionWarning)\n"
     ]
    },
    {
     "name": "stdout",
     "output_type": "stream",
     "text": [
      "Time Remaining: 3758.57114422 curTime: 9.91304993629 count0: 865 count1: 133 count2: 747 numProcessed: 4\n"
     ]
    },
    {
     "name": "stderr",
     "output_type": "stream",
     "text": [
      "/Users/patrick/anaconda/lib/python2.7/site-packages/sklearn/utils/validation.py:420: DataConversionWarning: Data with input dtype |S7 was converted to float64 by MinMaxScaler.\n",
      "  warnings.warn(msg, DataConversionWarning)\n",
      "/Users/patrick/anaconda/lib/python2.7/site-packages/sklearn/utils/validation.py:420: DataConversionWarning: Data with input dtype |S8 was converted to float64 by MinMaxScaler.\n",
      "  warnings.warn(msg, DataConversionWarning)\n",
      "/Users/patrick/anaconda/lib/python2.7/site-packages/sklearn/utils/validation.py:420: DataConversionWarning: Data with input dtype |S8 was converted to float64 by MinMaxScaler.\n",
      "  warnings.warn(msg, DataConversionWarning)\n"
     ]
    },
    {
     "name": "stdout",
     "output_type": "stream",
     "text": [
      "Time Remaining: 3990.34599948 curTime: 9.89483094215 count0: 762 count1: 278 count2: 705 numProcessed: 5\n"
     ]
    },
    {
     "name": "stderr",
     "output_type": "stream",
     "text": [
      "/Users/patrick/anaconda/lib/python2.7/site-packages/sklearn/utils/validation.py:420: DataConversionWarning: Data with input dtype |S7 was converted to float64 by MinMaxScaler.\n",
      "  warnings.warn(msg, DataConversionWarning)\n",
      "/Users/patrick/anaconda/lib/python2.7/site-packages/sklearn/utils/validation.py:420: DataConversionWarning: Data with input dtype |S7 was converted to float64 by MinMaxScaler.\n",
      "  warnings.warn(msg, DataConversionWarning)\n",
      "/Users/patrick/anaconda/lib/python2.7/site-packages/sklearn/utils/validation.py:420: DataConversionWarning: Data with input dtype |S8 was converted to float64 by MinMaxScaler.\n",
      "  warnings.warn(msg, DataConversionWarning)\n"
     ]
    },
    {
     "name": "stdout",
     "output_type": "stream",
     "text": [
      "Time Remaining: 4154.72547909 curTime: 10.0530908108 count0: 919 count1: 195 count2: 631 numProcessed: 6\n"
     ]
    },
    {
     "name": "stderr",
     "output_type": "stream",
     "text": [
      "/Users/patrick/anaconda/lib/python2.7/site-packages/sklearn/utils/validation.py:420: DataConversionWarning: Data with input dtype |S7 was converted to float64 by MinMaxScaler.\n",
      "  warnings.warn(msg, DataConversionWarning)\n",
      "/Users/patrick/anaconda/lib/python2.7/site-packages/sklearn/utils/validation.py:420: DataConversionWarning: Data with input dtype |S8 was converted to float64 by MinMaxScaler.\n",
      "  warnings.warn(msg, DataConversionWarning)\n",
      "/Users/patrick/anaconda/lib/python2.7/site-packages/sklearn/utils/validation.py:420: DataConversionWarning: Data with input dtype |S8 was converted to float64 by MinMaxScaler.\n",
      "  warnings.warn(msg, DataConversionWarning)\n"
     ]
    },
    {
     "name": "stdout",
     "output_type": "stream",
     "text": [
      "Time Remaining: 4309.17892398 curTime: 10.6141030788 count0: 509 count1: 362 count2: 874 numProcessed: 7\n"
     ]
    },
    {
     "name": "stderr",
     "output_type": "stream",
     "text": [
      "/Users/patrick/anaconda/lib/python2.7/site-packages/sklearn/utils/validation.py:420: DataConversionWarning: Data with input dtype |S7 was converted to float64 by MinMaxScaler.\n",
      "  warnings.warn(msg, DataConversionWarning)\n",
      "/Users/patrick/anaconda/lib/python2.7/site-packages/sklearn/utils/validation.py:420: DataConversionWarning: Data with input dtype |S8 was converted to float64 by MinMaxScaler.\n",
      "  warnings.warn(msg, DataConversionWarning)\n",
      "/Users/patrick/anaconda/lib/python2.7/site-packages/sklearn/utils/validation.py:420: DataConversionWarning: Data with input dtype |S7 was converted to float64 by MinMaxScaler.\n",
      "  warnings.warn(msg, DataConversionWarning)\n"
     ]
    },
    {
     "name": "stdout",
     "output_type": "stream",
     "text": [
      "Time Remaining: 4410.68651757 curTime: 10.4260649681 count0: 658 count1: 397 count2: 690 numProcessed: 8\n"
     ]
    },
    {
     "name": "stderr",
     "output_type": "stream",
     "text": [
      "/Users/patrick/anaconda/lib/python2.7/site-packages/sklearn/utils/validation.py:420: DataConversionWarning: Data with input dtype |S7 was converted to float64 by MinMaxScaler.\n",
      "  warnings.warn(msg, DataConversionWarning)\n",
      "/Users/patrick/anaconda/lib/python2.7/site-packages/sklearn/utils/validation.py:420: DataConversionWarning: Data with input dtype |S7 was converted to float64 by MinMaxScaler.\n",
      "  warnings.warn(msg, DataConversionWarning)\n",
      "/Users/patrick/anaconda/lib/python2.7/site-packages/sklearn/utils/validation.py:420: DataConversionWarning: Data with input dtype |S8 was converted to float64 by MinMaxScaler.\n",
      "  warnings.warn(msg, DataConversionWarning)\n"
     ]
    },
    {
     "name": "stdout",
     "output_type": "stream",
     "text": [
      "Time Remaining: 4477.26877647 curTime: 10.2437341213 count0: 683 count1: 339 count2: 723 numProcessed: 9\n"
     ]
    },
    {
     "name": "stderr",
     "output_type": "stream",
     "text": [
      "/Users/patrick/anaconda/lib/python2.7/site-packages/sklearn/utils/validation.py:420: DataConversionWarning: Data with input dtype |S6 was converted to float64 by MinMaxScaler.\n",
      "  warnings.warn(msg, DataConversionWarning)\n",
      "/Users/patrick/anaconda/lib/python2.7/site-packages/sklearn/utils/validation.py:420: DataConversionWarning: Data with input dtype |S7 was converted to float64 by MinMaxScaler.\n",
      "  warnings.warn(msg, DataConversionWarning)\n",
      "/Users/patrick/anaconda/lib/python2.7/site-packages/sklearn/utils/validation.py:420: DataConversionWarning: Data with input dtype |S8 was converted to float64 by MinMaxScaler.\n",
      "  warnings.warn(msg, DataConversionWarning)\n"
     ]
    },
    {
     "name": "stdout",
     "output_type": "stream",
     "text": [
      "Time Remaining: 4521.35955715 curTime: 10.0997641087 count0: 691 count1: 236 count2: 818 numProcessed: 10\n",
      "len not equal, stockTicker: APD2003\n"
     ]
    },
    {
     "name": "stderr",
     "output_type": "stream",
     "text": [
      "/Users/patrick/anaconda/lib/python2.7/site-packages/sklearn/utils/validation.py:420: DataConversionWarning: Data with input dtype |S7 was converted to float64 by MinMaxScaler.\n",
      "  warnings.warn(msg, DataConversionWarning)\n",
      "/Users/patrick/anaconda/lib/python2.7/site-packages/sklearn/utils/validation.py:420: DataConversionWarning: Data with input dtype |S7 was converted to float64 by MinMaxScaler.\n",
      "  warnings.warn(msg, DataConversionWarning)\n",
      "/Users/patrick/anaconda/lib/python2.7/site-packages/sklearn/utils/validation.py:420: DataConversionWarning: Data with input dtype |S8 was converted to float64 by MinMaxScaler.\n",
      "  warnings.warn(msg, DataConversionWarning)\n"
     ]
    },
    {
     "name": "stdout",
     "output_type": "stream",
     "text": [
      "Time Remaining: 4173.13038236 curTime: 10.2365441322 count0: 788 count1: 150 count2: 807 numProcessed: 12\n"
     ]
    },
    {
     "name": "stderr",
     "output_type": "stream",
     "text": [
      "/Users/patrick/anaconda/lib/python2.7/site-packages/sklearn/utils/validation.py:420: DataConversionWarning: Data with input dtype |S7 was converted to float64 by MinMaxScaler.\n",
      "  warnings.warn(msg, DataConversionWarning)\n",
      "/Users/patrick/anaconda/lib/python2.7/site-packages/sklearn/utils/validation.py:420: DataConversionWarning: Data with input dtype |S7 was converted to float64 by MinMaxScaler.\n",
      "  warnings.warn(msg, DataConversionWarning)\n",
      "/Users/patrick/anaconda/lib/python2.7/site-packages/sklearn/utils/validation.py:420: DataConversionWarning: Data with input dtype |S8 was converted to float64 by MinMaxScaler.\n",
      "  warnings.warn(msg, DataConversionWarning)\n"
     ]
    },
    {
     "name": "stdout",
     "output_type": "stream",
     "text": [
      "Time Remaining: 4218.23530635 curTime: 9.88009285927 count0: 673 count1: 152 count2: 920 numProcessed: 13\n",
      "len not equal, stockTicker: ALB2003\n",
      "len not equal, stockTicker: ARE2003\n"
     ]
    },
    {
     "name": "stderr",
     "output_type": "stream",
     "text": [
      "/Users/patrick/anaconda/lib/python2.7/site-packages/sklearn/utils/validation.py:420: DataConversionWarning: Data with input dtype |S7 was converted to float64 by MinMaxScaler.\n",
      "  warnings.warn(msg, DataConversionWarning)\n",
      "/Users/patrick/anaconda/lib/python2.7/site-packages/sklearn/utils/validation.py:420: DataConversionWarning: Data with input dtype |S7 was converted to float64 by MinMaxScaler.\n",
      "  warnings.warn(msg, DataConversionWarning)\n",
      "/Users/patrick/anaconda/lib/python2.7/site-packages/sklearn/utils/validation.py:420: DataConversionWarning: Data with input dtype |S8 was converted to float64 by MinMaxScaler.\n",
      "  warnings.warn(msg, DataConversionWarning)\n"
     ]
    },
    {
     "name": "stdout",
     "output_type": "stream",
     "text": [
      "Time Remaining: 3721.56884915 curTime: 10.3116149902 count0: 715 count1: 277 count2: 753 numProcessed: 16\n"
     ]
    },
    {
     "name": "stderr",
     "output_type": "stream",
     "text": [
      "/Users/patrick/anaconda/lib/python2.7/site-packages/sklearn/utils/validation.py:420: DataConversionWarning: Data with input dtype |S7 was converted to float64 by MinMaxScaler.\n",
      "  warnings.warn(msg, DataConversionWarning)\n",
      "/Users/patrick/anaconda/lib/python2.7/site-packages/sklearn/utils/validation.py:420: DataConversionWarning: Data with input dtype |S7 was converted to float64 by MinMaxScaler.\n",
      "  warnings.warn(msg, DataConversionWarning)\n",
      "/Users/patrick/anaconda/lib/python2.7/site-packages/sklearn/utils/validation.py:420: DataConversionWarning: Data with input dtype |S8 was converted to float64 by MinMaxScaler.\n",
      "  warnings.warn(msg, DataConversionWarning)\n"
     ]
    },
    {
     "name": "stdout",
     "output_type": "stream",
     "text": [
      "Time Remaining: 3776.85705471 curTime: 9.80160903931 count0: 546 count1: 253 count2: 946 numProcessed: 17\n",
      "len not equal, stockTicker: ALLE1084\n"
     ]
    },
    {
     "name": "stderr",
     "output_type": "stream",
     "text": [
      "/Users/patrick/anaconda/lib/python2.7/site-packages/sklearn/utils/validation.py:420: DataConversionWarning: Data with input dtype |S8 was converted to float64 by MinMaxScaler.\n",
      "  warnings.warn(msg, DataConversionWarning)\n",
      "/Users/patrick/anaconda/lib/python2.7/site-packages/sklearn/utils/validation.py:420: DataConversionWarning: Data with input dtype |S8 was converted to float64 by MinMaxScaler.\n",
      "  warnings.warn(msg, DataConversionWarning)\n",
      "/Users/patrick/anaconda/lib/python2.7/site-packages/sklearn/utils/validation.py:420: DataConversionWarning: Data with input dtype |S8 was converted to float64 by MinMaxScaler.\n",
      "  warnings.warn(msg, DataConversionWarning)\n"
     ]
    },
    {
     "name": "stdout",
     "output_type": "stream",
     "text": [
      "Time Remaining: 3615.89200243 curTime: 9.79110503197 count0: 662 count1: 246 count2: 837 numProcessed: 19\n"
     ]
    },
    {
     "name": "stderr",
     "output_type": "stream",
     "text": [
      "/Users/patrick/anaconda/lib/python2.7/site-packages/sklearn/utils/validation.py:420: DataConversionWarning: Data with input dtype |S8 was converted to float64 by MinMaxScaler.\n",
      "  warnings.warn(msg, DataConversionWarning)\n",
      "/Users/patrick/anaconda/lib/python2.7/site-packages/sklearn/utils/validation.py:420: DataConversionWarning: Data with input dtype |S8 was converted to float64 by MinMaxScaler.\n",
      "  warnings.warn(msg, DataConversionWarning)\n",
      "/Users/patrick/anaconda/lib/python2.7/site-packages/sklearn/utils/validation.py:420: DataConversionWarning: Data with input dtype |S7 was converted to float64 by MinMaxScaler.\n",
      "  warnings.warn(msg, DataConversionWarning)\n"
     ]
    },
    {
     "name": "stdout",
     "output_type": "stream",
     "text": [
      "Time Remaining: 3665.96709931 curTime: 9.81179594994 count0: 591 count1: 431 count2: 723 numProcessed: 20\n",
      "len not equal, stockTicker: LNT2003\n",
      "len not equal, stockTicker: ALL2003\n"
     ]
    },
    {
     "name": "stderr",
     "output_type": "stream",
     "text": [
      "/Users/patrick/anaconda/lib/python2.7/site-packages/sklearn/utils/validation.py:420: DataConversionWarning: Data with input dtype |S8 was converted to float64 by MinMaxScaler.\n",
      "  warnings.warn(msg, DataConversionWarning)\n",
      "/Users/patrick/anaconda/lib/python2.7/site-packages/sklearn/utils/validation.py:420: DataConversionWarning: Data with input dtype |S8 was converted to float64 by MinMaxScaler.\n",
      "  warnings.warn(msg, DataConversionWarning)\n",
      "/Users/patrick/anaconda/lib/python2.7/site-packages/sklearn/utils/validation.py:420: DataConversionWarning: Data with input dtype |S8 was converted to float64 by MinMaxScaler.\n",
      "  warnings.warn(msg, DataConversionWarning)\n"
     ]
    },
    {
     "name": "stdout",
     "output_type": "stream",
     "text": [
      "Time Remaining: 3371.65293285 curTime: 9.71402001381 count0: 677 count1: 182 count2: 886 numProcessed: 23\n",
      "len not equal, stockTicker: GOOG996\n"
     ]
    },
    {
     "name": "stderr",
     "output_type": "stream",
     "text": [
      "/Users/patrick/anaconda/lib/python2.7/site-packages/sklearn/utils/validation.py:420: DataConversionWarning: Data with input dtype |S7 was converted to float64 by MinMaxScaler.\n",
      "  warnings.warn(msg, DataConversionWarning)\n",
      "/Users/patrick/anaconda/lib/python2.7/site-packages/sklearn/utils/validation.py:420: DataConversionWarning: Data with input dtype |S7 was converted to float64 by MinMaxScaler.\n",
      "  warnings.warn(msg, DataConversionWarning)\n",
      "/Users/patrick/anaconda/lib/python2.7/site-packages/sklearn/utils/validation.py:420: DataConversionWarning: Data with input dtype |S8 was converted to float64 by MinMaxScaler.\n",
      "  warnings.warn(msg, DataConversionWarning)\n"
     ]
    },
    {
     "name": "stdout",
     "output_type": "stream",
     "text": [
      "Time Remaining: 3276.58055229 curTime: 9.76716113091 count0: 593 count1: 425 count2: 727 numProcessed: 25\n"
     ]
    },
    {
     "name": "stderr",
     "output_type": "stream",
     "text": [
      "/Users/patrick/anaconda/lib/python2.7/site-packages/sklearn/utils/validation.py:420: DataConversionWarning: Data with input dtype |S8 was converted to float64 by MinMaxScaler.\n",
      "  warnings.warn(msg, DataConversionWarning)\n",
      "/Users/patrick/anaconda/lib/python2.7/site-packages/sklearn/utils/validation.py:420: DataConversionWarning: Data with input dtype |S8 was converted to float64 by MinMaxScaler.\n",
      "  warnings.warn(msg, DataConversionWarning)\n",
      "/Users/patrick/anaconda/lib/python2.7/site-packages/sklearn/utils/validation.py:420: DataConversionWarning: Data with input dtype |S8 was converted to float64 by MinMaxScaler.\n",
      "  warnings.warn(msg, DataConversionWarning)\n"
     ]
    },
    {
     "name": "stdout",
     "output_type": "stream",
     "text": [
      "Time Remaining: 3326.24141939 curTime: 9.89225077629 count0: 522 count1: 326 count2: 897 numProcessed: 26\n",
      "len not equal, stockTicker: AEE2003\n"
     ]
    },
    {
     "name": "stderr",
     "output_type": "stream",
     "text": [
      "/Users/patrick/anaconda/lib/python2.7/site-packages/sklearn/utils/validation.py:420: DataConversionWarning: Data with input dtype |S7 was converted to float64 by MinMaxScaler.\n",
      "  warnings.warn(msg, DataConversionWarning)\n",
      "/Users/patrick/anaconda/lib/python2.7/site-packages/sklearn/utils/validation.py:420: DataConversionWarning: Data with input dtype |S7 was converted to float64 by MinMaxScaler.\n",
      "  warnings.warn(msg, DataConversionWarning)\n",
      "/Users/patrick/anaconda/lib/python2.7/site-packages/sklearn/utils/validation.py:420: DataConversionWarning: Data with input dtype |S9 was converted to float64 by MinMaxScaler.\n",
      "  warnings.warn(msg, DataConversionWarning)\n"
     ]
    },
    {
     "name": "stdout",
     "output_type": "stream",
     "text": [
      "Time Remaining: 3242.75153628 curTime: 9.80252099037 count0: 718 count1: 226 count2: 801 numProcessed: 28\n",
      "len not equal, stockTicker: AEP2003\n",
      "len not equal, stockTicker: AXP2003\n"
     ]
    },
    {
     "name": "stderr",
     "output_type": "stream",
     "text": [
      "/Users/patrick/anaconda/lib/python2.7/site-packages/sklearn/utils/validation.py:420: DataConversionWarning: Data with input dtype |S7 was converted to float64 by MinMaxScaler.\n",
      "  warnings.warn(msg, DataConversionWarning)\n",
      "/Users/patrick/anaconda/lib/python2.7/site-packages/sklearn/utils/validation.py:420: DataConversionWarning: Data with input dtype |S7 was converted to float64 by MinMaxScaler.\n",
      "  warnings.warn(msg, DataConversionWarning)\n",
      "/Users/patrick/anaconda/lib/python2.7/site-packages/sklearn/utils/validation.py:420: DataConversionWarning: Data with input dtype |S9 was converted to float64 by MinMaxScaler.\n",
      "  warnings.warn(msg, DataConversionWarning)\n"
     ]
    },
    {
     "name": "stdout",
     "output_type": "stream",
     "text": [
      "Time Remaining: 3059.90479636 curTime: 9.7700009346 count0: 694 count1: 307 count2: 744 numProcessed: 31\n"
     ]
    },
    {
     "name": "stderr",
     "output_type": "stream",
     "text": [
      "/Users/patrick/anaconda/lib/python2.7/site-packages/sklearn/utils/validation.py:420: DataConversionWarning: Data with input dtype |S7 was converted to float64 by MinMaxScaler.\n",
      "  warnings.warn(msg, DataConversionWarning)\n",
      "/Users/patrick/anaconda/lib/python2.7/site-packages/sklearn/utils/validation.py:420: DataConversionWarning: Data with input dtype |S8 was converted to float64 by MinMaxScaler.\n",
      "  warnings.warn(msg, DataConversionWarning)\n",
      "/Users/patrick/anaconda/lib/python2.7/site-packages/sklearn/utils/validation.py:420: DataConversionWarning: Data with input dtype |S8 was converted to float64 by MinMaxScaler.\n",
      "  warnings.warn(msg, DataConversionWarning)\n"
     ]
    },
    {
     "name": "stdout",
     "output_type": "stream",
     "text": [
      "Time Remaining: 3104.87663408 curTime: 9.93463611603 count0: 613 count1: 362 count2: 770 numProcessed: 32\n",
      "len not equal, stockTicker: AWK2003\n",
      "len not equal, stockTicker: AMP2003\n",
      "len not equal, stockTicker: ABC2003\n",
      "len not equal, stockTicker: AME2003\n"
     ]
    },
    {
     "name": "stderr",
     "output_type": "stream",
     "text": [
      "/Users/patrick/anaconda/lib/python2.7/site-packages/sklearn/utils/validation.py:420: DataConversionWarning: Data with input dtype |S8 was converted to float64 by MinMaxScaler.\n",
      "  warnings.warn(msg, DataConversionWarning)\n",
      "/Users/patrick/anaconda/lib/python2.7/site-packages/sklearn/utils/validation.py:420: DataConversionWarning: Data with input dtype |S8 was converted to float64 by MinMaxScaler.\n",
      "  warnings.warn(msg, DataConversionWarning)\n",
      "/Users/patrick/anaconda/lib/python2.7/site-packages/sklearn/utils/validation.py:420: DataConversionWarning: Data with input dtype |S8 was converted to float64 by MinMaxScaler.\n",
      "  warnings.warn(msg, DataConversionWarning)\n"
     ]
    },
    {
     "name": "stdout",
     "output_type": "stream",
     "text": [
      "Time Remaining: 2783.35114791 curTime: 9.99609208107 count0: 601 count1: 301 count2: 843 numProcessed: 37\n",
      "len not equal, stockTicker: APH2003\n",
      "len not equal, stockTicker: APC2003\n",
      "len not equal, stockTicker: ADI2003\n"
     ]
    },
    {
     "name": "stderr",
     "output_type": "stream",
     "text": [
      "/Users/patrick/anaconda/lib/python2.7/site-packages/sklearn/utils/validation.py:420: DataConversionWarning: Data with input dtype |S7 was converted to float64 by MinMaxScaler.\n",
      "  warnings.warn(msg, DataConversionWarning)\n",
      "/Users/patrick/anaconda/lib/python2.7/site-packages/sklearn/utils/validation.py:420: DataConversionWarning: Data with input dtype |S8 was converted to float64 by MinMaxScaler.\n",
      "  warnings.warn(msg, DataConversionWarning)\n",
      "/Users/patrick/anaconda/lib/python2.7/site-packages/sklearn/utils/validation.py:420: DataConversionWarning: Data with input dtype |S8 was converted to float64 by MinMaxScaler.\n",
      "  warnings.warn(msg, DataConversionWarning)\n"
     ]
    },
    {
     "name": "stdout",
     "output_type": "stream",
     "text": [
      "Time Remaining: 2606.38950845 curTime: 10.2545239925 count0: 704 count1: 306 count2: 735 numProcessed: 41\n"
     ]
    },
    {
     "name": "stderr",
     "output_type": "stream",
     "text": [
      "/Users/patrick/anaconda/lib/python2.7/site-packages/sklearn/utils/validation.py:420: DataConversionWarning: Data with input dtype |S7 was converted to float64 by MinMaxScaler.\n",
      "  warnings.warn(msg, DataConversionWarning)\n",
      "/Users/patrick/anaconda/lib/python2.7/site-packages/sklearn/utils/validation.py:420: DataConversionWarning: Data with input dtype |S7 was converted to float64 by MinMaxScaler.\n",
      "  warnings.warn(msg, DataConversionWarning)\n",
      "/Users/patrick/anaconda/lib/python2.7/site-packages/sklearn/utils/validation.py:420: DataConversionWarning: Data with input dtype |S8 was converted to float64 by MinMaxScaler.\n",
      "  warnings.warn(msg, DataConversionWarning)\n"
     ]
    },
    {
     "name": "stdout",
     "output_type": "stream",
     "text": [
      "Time Remaining: 2659.21857846 curTime: 10.9186999798 count0: 667 count1: 358 count2: 720 numProcessed: 42\n"
     ]
    },
    {
     "name": "stderr",
     "output_type": "stream",
     "text": [
      "/Users/patrick/anaconda/lib/python2.7/site-packages/sklearn/utils/validation.py:420: DataConversionWarning: Data with input dtype |S7 was converted to float64 by MinMaxScaler.\n",
      "  warnings.warn(msg, DataConversionWarning)\n",
      "/Users/patrick/anaconda/lib/python2.7/site-packages/sklearn/utils/validation.py:420: DataConversionWarning: Data with input dtype |S8 was converted to float64 by MinMaxScaler.\n",
      "  warnings.warn(msg, DataConversionWarning)\n",
      "/Users/patrick/anaconda/lib/python2.7/site-packages/sklearn/utils/validation.py:420: DataConversionWarning: Data with input dtype |S8 was converted to float64 by MinMaxScaler.\n",
      "  warnings.warn(msg, DataConversionWarning)\n"
     ]
    },
    {
     "name": "stdout",
     "output_type": "stream",
     "text": [
      "Time Remaining: 2698.78801798 curTime: 9.96079397202 count0: 597 count1: 230 count2: 918 numProcessed: 43\n",
      "len not equal, stockTicker: AON2003\n",
      "len not equal, stockTicker: AOS2003\n",
      "len not equal, stockTicker: APA2003\n"
     ]
    },
    {
     "name": "stderr",
     "output_type": "stream",
     "text": [
      "/Users/patrick/anaconda/lib/python2.7/site-packages/sklearn/utils/validation.py:420: DataConversionWarning: Data with input dtype |S6 was converted to float64 by MinMaxScaler.\n",
      "  warnings.warn(msg, DataConversionWarning)\n",
      "/Users/patrick/anaconda/lib/python2.7/site-packages/sklearn/utils/validation.py:420: DataConversionWarning: Data with input dtype |S7 was converted to float64 by MinMaxScaler.\n",
      "  warnings.warn(msg, DataConversionWarning)\n",
      "/Users/patrick/anaconda/lib/python2.7/site-packages/sklearn/utils/validation.py:420: DataConversionWarning: Data with input dtype |S8 was converted to float64 by MinMaxScaler.\n",
      "  warnings.warn(msg, DataConversionWarning)\n"
     ]
    },
    {
     "name": "stdout",
     "output_type": "stream",
     "text": [
      "Time Remaining: 2542.65495747 curTime: 9.74151086807 count0: 786 count1: 220 count2: 739 numProcessed: 47\n"
     ]
    },
    {
     "name": "stderr",
     "output_type": "stream",
     "text": [
      "/Users/patrick/anaconda/lib/python2.7/site-packages/sklearn/utils/validation.py:420: DataConversionWarning: Data with input dtype |S8 was converted to float64 by MinMaxScaler.\n",
      "  warnings.warn(msg, DataConversionWarning)\n",
      "/Users/patrick/anaconda/lib/python2.7/site-packages/sklearn/utils/validation.py:420: DataConversionWarning: Data with input dtype |S8 was converted to float64 by MinMaxScaler.\n",
      "  warnings.warn(msg, DataConversionWarning)\n",
      "/Users/patrick/anaconda/lib/python2.7/site-packages/sklearn/utils/validation.py:420: DataConversionWarning: Data with input dtype |S9 was converted to float64 by MinMaxScaler.\n",
      "  warnings.warn(msg, DataConversionWarning)\n"
     ]
    },
    {
     "name": "stdout",
     "output_type": "stream",
     "text": [
      "Time Remaining: 2577.36308959 curTime: 9.78017115593 count0: 701 count1: 273 count2: 771 numProcessed: 48\n"
     ]
    },
    {
     "name": "stderr",
     "output_type": "stream",
     "text": [
      "/Users/patrick/anaconda/lib/python2.7/site-packages/sklearn/utils/validation.py:420: DataConversionWarning: Data with input dtype |S7 was converted to float64 by MinMaxScaler.\n",
      "  warnings.warn(msg, DataConversionWarning)\n",
      "/Users/patrick/anaconda/lib/python2.7/site-packages/sklearn/utils/validation.py:420: DataConversionWarning: Data with input dtype |S7 was converted to float64 by MinMaxScaler.\n",
      "  warnings.warn(msg, DataConversionWarning)\n",
      "/Users/patrick/anaconda/lib/python2.7/site-packages/sklearn/utils/validation.py:420: DataConversionWarning: Data with input dtype |S9 was converted to float64 by MinMaxScaler.\n",
      "  warnings.warn(msg, DataConversionWarning)\n"
     ]
    },
    {
     "name": "stdout",
     "output_type": "stream",
     "text": [
      "Time Remaining: 2612.83161461 curTime: 10.0570070744 count0: 734 count1: 137 count2: 874 numProcessed: 49\n",
      "len not equal, stockTicker: APTV65\n",
      "completed tickers\n",
      "[u'ATVI', u'ADBE', u'AMD', u'AAP', u'AES', u'AET', u'AMG', u'AFL', u'A', u'AKAM', u'ALK', u'ALXN', u'ALGN', u'AGN', u'ADS', u'GOOGL', u'MO', u'AMZN', u'AAL', u'AIG', u'AMT', u'AMGN', u'ANDV', u'ANSS', u'ANTM', u'AIV', u'AAPL', u'AMAT']\n",
      "skipped tickers\n",
      "[u'AYI', u'APD', u'ALB', u'ARE', u'ALLE', u'LNT', u'ALL', u'GOOG', u'AEE', u'AEP', u'AXP', u'AWK', u'AMP', u'ABC', u'AME', u'APH', u'APC', u'ADI', u'AON', u'AOS', u'APA', u'APTV']\n"
     ]
    }
   ],
   "source": [
    "numProc = 0\n",
    "startTime = time.time()\n",
    "curTime = time.time()\n",
    "#for i, stockTicker in enumerate(SP500ticker):\n",
    "while(numProc < 505):\n",
    "    stockTicker = SP500ticker.pop(0)\n",
    "    numProc += 1\n",
    "    high_price, close_price, vol = get_data_from_csv('/Users/patrick/Euler/S&P500/' + stockTicker + '.csv')\n",
    "    if len(high_price) != len(high_priceSP) or len(close_price) != len(close_priceSP) or len(volSP) != len(vol):\n",
    "        print(\"len not equal, stockTicker: \" + stockTicker + str(len(high_price)))\n",
    "        skippedTickers.append(stockTicker)\n",
    "        continue\n",
    "    #if(not(type(high_price) is float)):\n",
    "    #    print(\"high not float, stockTicker: \" + stockTicker)\n",
    "    #    skippedTickers.append(stockTicker)        \n",
    "    #    continue\n",
    "    scaled_high = scale_data(high_price)\n",
    "    scaled_high = np.flip(scaled_high, axis=0)\n",
    "    #if(not(type(close_price) is float)):\n",
    "    #    print(\"close not float\")        \n",
    "    #    skippedTickers.append(stockTicker)         \n",
    "    #    continue\n",
    "    scaled_closed = scale_data(close_price)\n",
    "    scaled_closed = np.flip(scaled_closed, axis=0)\n",
    "    #if(not(type(vol) is float)):\n",
    "    #    print(\"vol not float\")\n",
    "    #    skippedTickers.append(stockTicker)        \n",
    "    #    continue\n",
    "    scaled_vol = scale_data(vol)\n",
    "    scaled_vol = np.flip(scaled_vol, axis=0)\n",
    "\n",
    "    pictures, labels, growth = convert_to_images(scaled_high, scaled_closed, scaled_vol)\n",
    "\n",
    "    count = 0\n",
    "    count0 = 0\n",
    "    count1 = 0\n",
    "    count2 = 0\n",
    "    for picture in pictures:\n",
    "        im = Image.fromarray(np.uint8(picture))\n",
    "        im.save(imagePath + stockTicker + str(count) + '.png')\n",
    "        difLabel = \"\"\n",
    "        if growth[count] <= 0:\n",
    "            difLabel = \"0\"\n",
    "            count0 += 1\n",
    "        elif growth[count] < growthSP[count]:\n",
    "            difLabel = \"1\"\n",
    "            count1 += 1\n",
    "        else:\n",
    "            difLabel = \"2\"\n",
    "            count2 += 1\n",
    "        fd.write(stockTicker + str(count) + '.png' + \" \" + difLabel + \"\\n\")\n",
    "        #print(stockTicker + str(count) + '.png' + \" \" + str(labels[count]) + \"\\n\")\n",
    "        #print(\"count: \", count)\n",
    "        count += 1\n",
    "        #if(count == 1):\n",
    "        #break\n",
    "    completedTicker.append(stockTicker)\n",
    "\n",
    "    print(\"Time Remaining: \" + str((time.time() - startTime) / numProc * 505 - (time.time() - startTime)) + \" curTime: \" + str(time.time() - curTime) + \" count0: \" + str(count0) + \" count1: \" + str(count1) + \" count2: \" + str(count2) + \" numProcessed: \" + str(numProc))\n",
    "    curTime = time.time()\n",
    "                                   \n",
    "print(\"completed tickers\")\n",
    "print(completedTicker)\n",
    "print(\"skipped tickers\")\n",
    "print(skippedTickers)\n"
   ]
  },
  {
   "cell_type": "code",
   "execution_count": 56,
   "metadata": {
    "collapsed": false,
    "nbpresent": {
     "id": "c98f3a1e-9469-45db-b500-1773a7c444c9"
    }
   },
   "outputs": [
    {
     "name": "stdout",
     "output_type": "stream",
     "text": [
      "         img  label\n",
      "0  ATVI0.png    2.0\n",
      "1  ATVI1.png    2.0\n",
      "2  ATVI2.png    2.0\n",
      "3  ATVI3.png    2.0\n",
      "4  ATVI4.png    2.0\n",
      "          img  label\n",
      "0  ATVI10.png    0.0\n",
      "1  ATVI15.png    0.0\n",
      "2  ATVI47.png    0.0\n",
      "3  ATVI51.png    0.0\n",
      "4  ATVI52.png    0.0\n",
      "           img  label\n",
      "0   ATVI77.png    1.0\n",
      "1  ATVI154.png    1.0\n",
      "2  ATVI155.png    1.0\n",
      "3  ATVI156.png    1.0\n",
      "4  ATVI159.png    1.0\n",
      "         img  label\n",
      "0  ATVI0.png    2.0\n",
      "1  ATVI1.png    2.0\n",
      "2  ATVI2.png    2.0\n",
      "3  ATVI3.png    2.0\n",
      "4  ATVI4.png    2.0\n",
      "minimum len: 7507\n",
      "zero orig len: 18308 len to delete: 10801\n",
      "[15958  8852  5915 ...,  5762  1775  6543]\n",
      "one orig len: 7507 len to delete: 0\n",
      "[]\n",
      "two orig len: 21898 len to delete: 14391\n",
      "[ 5611  5944  9128 ..., 13754 15766 19611]\n",
      "zero new len: 10801\n",
      "one new len: 0\n",
      "two new len: 14391\n",
      "ANTM93.png\n",
      "ANTM93.png\n",
      "ALGN1471.png\n",
      "A950.png\n",
      "AAPL20.png\n",
      "AMD1092.png\n",
      "AFL159.png\n",
      "AFL1005.png\n",
      "ALXN590.png\n",
      "GOOGL1009.png\n",
      "ALXN124.png\n"
     ]
    }
   ],
   "source": [
    "# equate label amounts for images\n",
    "labels_df = pd.read_table(\"./labels.txt\", sep=\" \", names=[\"img\", \"label\"])\n",
    "print(labels_df.head())\n",
    "\n",
    "zero = labels_df.loc[labels_df['label'] == 0.0]\n",
    "one = labels_df.loc[labels_df['label'] == 1.0]\n",
    "two = labels_df.loc[labels_df['label'] == 2.0]\n",
    "zero = (zero.reset_index()).drop('index', axis=1)\n",
    "one = (one.reset_index()).drop('index', axis=1)\n",
    "two = (two.reset_index()).drop('index', axis=1)\n",
    "print(zero.head())\n",
    "print(one.head())\n",
    "print(two.head())\n",
    "min_len = min(len(zero), len(one), len(two))\n",
    "zero_dellen = len(zero) - min_len\n",
    "one_dellen = len(one) - min_len\n",
    "two_dellen = len(two) - min_len\n",
    "zero_todelete = choice(range(len(zero)), size=zero_dellen, replace=False)\n",
    "one_todelete = choice(range(len(one)), size=one_dellen, replace=False)\n",
    "two_todelete = choice(range(len(two)), size=two_dellen, replace=False)\n",
    "print(\"minimum len: \" + str(min_len))\n",
    "print(\"zero orig len: \" + str(len(zero)) + \" len to delete: \" + str((len(zero_todelete))))\n",
    "print(zero_todelete)\n",
    "print(\"one orig len: \" + str(len(one)) + \" len to delete: \" + str((one_dellen)))\n",
    "print(one_todelete)\n",
    "print(\"two orig len: \" + str(len(two)) + \" len to delete: \" + str((two_dellen)))\n",
    "print(two_todelete)\n",
    "zero_png = zero['img']\n",
    "zero_lbls = (zero_png.ix[zero_todelete])\n",
    "zero_lbls = list(zero_lbls)\n",
    "#zero_lbls = (zero_lbls.reset_index()).drop('index', axis=1)\n",
    "#print(zero_lbls.head())\n",
    "print(\"zero new len: \" + str(len(zero_lbls)))\n",
    "one_png = one['img']\n",
    "one_lbls = (one_png.ix[one_todelete])\n",
    "one_lbls = list(one_lbls)\n",
    "#one_lbls = (one_lbls.reset_index()).drop('index', axis=1)\n",
    "two_png = two['img']\n",
    "two_lbls = (two_png.ix[two_todelete])\n",
    "two_lbls = list(two_lbls)\n",
    "#two_lbls = (two_lbls.reset_index()).drop('index', axis=1)\n",
    "#print(one_lbls.head())\n",
    "print(\"one new len: \" + str(len(one_lbls)))\n",
    "#print(two_lbls.head())\n",
    "print(\"two new len: \" + str(len(two_lbls)))\n",
    "count = 0\n",
    "#print zero_lbls[0]\n",
    "for i in zero_lbls:\n",
    "    os.remove(imagePath + i)\n",
    "    if(count < 5):\n",
    "        print(i)\n",
    "    count += 1\n",
    "count = 0\n",
    "for i in one_lbls:\n",
    "    os.remove(imagePath + i)\n",
    "    if(count < 5):\n",
    "        print(i)\n",
    "    count += 1\n",
    "count = 0\n",
    "for i in two_lbls:\n",
    "    os.remove(imagePath + i)\n",
    "    if(count < 5):\n",
    "        print(i)\n",
    "    count += 1"
   ]
  },
  {
   "cell_type": "code",
   "execution_count": null,
   "metadata": {
    "collapsed": true
   },
   "outputs": [],
   "source": [
    "fd.close()\n",
    "\n",
    "##Number of batches run, recorded manually (measured in number of companies)\n",
    "# completed: 60 \n",
    "# running currently: 50"
   ]
  },
  {
   "cell_type": "code",
   "execution_count": 58,
   "metadata": {
    "collapsed": false
   },
   "outputs": [],
   "source": [
    "import random\n",
    "\n",
    "training = open(\"train.txt\", \"w+\")\n",
    "validation = open(\"val.txt\", \"w+\")\n",
    "\n",
    "with open('labels.txt') as f:\n",
    "    for line in f:\n",
    "        if random.uniform(0,1) < .7:\n",
    "            training.write(line)\n",
    "        else:\n",
    "            validation.write(line)\n",
    "            \n",
    "training.close()\n",
    "validation.close()"
   ]
  },
  {
   "cell_type": "code",
   "execution_count": null,
   "metadata": {
    "collapsed": true
   },
   "outputs": [],
   "source": []
  }
 ],
 "metadata": {
  "anaconda-cloud": {},
  "celltoolbar": "Raw Cell Format",
  "kernelspec": {
   "display_name": "Python [Root]",
   "language": "python",
   "name": "Python [Root]"
  },
  "language_info": {
   "codemirror_mode": {
    "name": "ipython",
    "version": 2
   },
   "file_extension": ".py",
   "mimetype": "text/x-python",
   "name": "python",
   "nbconvert_exporter": "python",
   "pygments_lexer": "ipython2",
   "version": "2.7.12"
  },
  "nbpresent": {
   "slides": {
    "305dee77-841a-4e8c-88dc-58e6f52227a8": {
     "id": "305dee77-841a-4e8c-88dc-58e6f52227a8",
     "prev": "78ecebc8-1657-4184-aed1-a1a8ef24420e",
     "regions": {
      "13384c29-c8a3-48d8-9139-1203d635e914": {
       "attrs": {
        "height": 0.8,
        "width": 0.8,
        "x": 0.1,
        "y": 0.1
       },
       "content": {
        "cell": "e34fa557-20b1-4bae-8b31-4023e735f755",
        "part": "whole"
       },
       "id": "13384c29-c8a3-48d8-9139-1203d635e914"
      }
     }
    },
    "3bae33c8-2300-4cd6-a1ec-69a8cf2c62f9": {
     "id": "3bae33c8-2300-4cd6-a1ec-69a8cf2c62f9",
     "prev": "305dee77-841a-4e8c-88dc-58e6f52227a8",
     "regions": {
      "1b621de9-c0d9-4e79-a5c6-8d1daa8e3baf": {
       "attrs": {
        "height": 0.8,
        "width": 0.8,
        "x": 0.1,
        "y": 0.1
       },
       "content": {
        "cell": "bb170c3c-2b8d-4391-af6e-373d0638c721",
        "part": "whole"
       },
       "id": "1b621de9-c0d9-4e79-a5c6-8d1daa8e3baf"
      }
     }
    },
    "50bfa1c3-468e-4851-bc81-1644d849d77e": {
     "id": "50bfa1c3-468e-4851-bc81-1644d849d77e",
     "prev": "3bae33c8-2300-4cd6-a1ec-69a8cf2c62f9",
     "regions": {
      "d0e631e4-c2e3-4549-abf3-5437bf483949": {
       "attrs": {
        "height": 0.8,
        "width": 0.8,
        "x": 0.1,
        "y": 0.1
       },
       "content": {
        "cell": "80162dc8-1a9c-41fb-8cf3-e6cef7ff9bb6",
        "part": "whole"
       },
       "id": "d0e631e4-c2e3-4549-abf3-5437bf483949"
      }
     }
    },
    "56d87dc3-ef89-4083-b7a8-6bd90dda6e61": {
     "id": "56d87dc3-ef89-4083-b7a8-6bd90dda6e61",
     "prev": "aa4df9e8-cefe-4aa8-8fb1-642482619d74",
     "regions": {
      "19b0e5e3-4311-4f8a-b137-62dab7f0f046": {
       "attrs": {
        "height": 0.8,
        "width": 0.8,
        "x": 0.1,
        "y": 0.1
       },
       "content": {
        "cell": "164c9777-53e3-4b89-a11e-f7ea1e0f9ed2",
        "part": "whole"
       },
       "id": "19b0e5e3-4311-4f8a-b137-62dab7f0f046"
      }
     }
    },
    "6443e753-e73f-4677-bea1-e3dc332dab64": {
     "id": "6443e753-e73f-4677-bea1-e3dc332dab64",
     "prev": "50bfa1c3-468e-4851-bc81-1644d849d77e",
     "regions": {
      "5e17adfb-329b-4cd6-8850-6a4e10d85c50": {
       "attrs": {
        "height": 0.8,
        "width": 0.8,
        "x": 0.1,
        "y": 0.1
       },
       "content": {
        "cell": "f67bc1a1-49fc-4dec-8c95-8a403fdb9fb2",
        "part": "whole"
       },
       "id": "5e17adfb-329b-4cd6-8850-6a4e10d85c50"
      }
     }
    },
    "6903a44d-7ccd-4c5e-b806-36dac3ff37b0": {
     "id": "6903a44d-7ccd-4c5e-b806-36dac3ff37b0",
     "prev": "56d87dc3-ef89-4083-b7a8-6bd90dda6e61",
     "regions": {
      "5f5031a7-a5ab-43c2-aee5-09f434d51c7b": {
       "attrs": {
        "height": 0.8,
        "width": 0.8,
        "x": 0.1,
        "y": 0.1
       },
       "content": {
        "cell": "ffb0895e-e33b-47da-a1a6-5f31d4a50cc7",
        "part": "whole"
       },
       "id": "5f5031a7-a5ab-43c2-aee5-09f434d51c7b"
      }
     }
    },
    "78ecebc8-1657-4184-aed1-a1a8ef24420e": {
     "id": "78ecebc8-1657-4184-aed1-a1a8ef24420e",
     "prev": "6903a44d-7ccd-4c5e-b806-36dac3ff37b0",
     "regions": {
      "9ceac969-3abf-43d3-b769-3515a3a0ee54": {
       "attrs": {
        "height": 0.8,
        "width": 0.8,
        "x": 0.1,
        "y": 0.1
       },
       "content": {
        "cell": "cc7a4272-09e8-4fad-b683-fead233e5d1e",
        "part": "whole"
       },
       "id": "9ceac969-3abf-43d3-b769-3515a3a0ee54"
      }
     }
    },
    "aa4df9e8-cefe-4aa8-8fb1-642482619d74": {
     "id": "aa4df9e8-cefe-4aa8-8fb1-642482619d74",
     "prev": null,
     "regions": {
      "a9f43de3-c0df-49e9-b546-ce0f3c0d4aba": {
       "attrs": {
        "height": 0.8,
        "width": 0.8,
        "x": 0.1,
        "y": 0.1
       },
       "content": {
        "cell": "1ef3e146-2d1c-4a5e-b7ce-e0fee3d530ce",
        "part": "whole"
       },
       "id": "a9f43de3-c0df-49e9-b546-ce0f3c0d4aba"
      }
     }
    },
    "c6b96ce9-843c-40e4-b345-03ed5051887b": {
     "id": "c6b96ce9-843c-40e4-b345-03ed5051887b",
     "prev": "6443e753-e73f-4677-bea1-e3dc332dab64",
     "regions": {
      "04bee1e9-4963-46ec-b043-f5c6985db0e8": {
       "attrs": {
        "height": 0.8,
        "width": 0.8,
        "x": 0.1,
        "y": 0.1
       },
       "content": {
        "cell": "c98f3a1e-9469-45db-b500-1773a7c444c9",
        "part": "whole"
       },
       "id": "04bee1e9-4963-46ec-b043-f5c6985db0e8"
      }
     }
    }
   },
   "themes": {}
  }
 },
 "nbformat": 4,
 "nbformat_minor": 1
}
